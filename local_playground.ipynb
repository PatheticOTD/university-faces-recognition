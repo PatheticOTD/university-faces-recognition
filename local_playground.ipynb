{
 "cells": [
  {
   "cell_type": "code",
   "execution_count": 18,
   "metadata": {},
   "outputs": [],
   "source": [
    "from datasets import load_dataset\n",
    "import pandas as pd\n",
    "import numpy as np\n",
    "from PIL import Image"
   ]
  },
  {
   "cell_type": "code",
   "execution_count": 7,
   "metadata": {},
   "outputs": [
    {
     "name": "stderr",
     "output_type": "stream",
     "text": [
      "Generating train split: 100%|██████████| 17334/17334 [00:00<00:00, 21401.31 examples/s]\n",
      "Generating test split: 100%|██████████| 200/200 [00:00<00:00, 31669.47 examples/s]\n"
     ]
    }
   ],
   "source": [
    "ds = load_dataset(\"lansinuote/simple_facenet\")"
   ]
  },
  {
   "cell_type": "code",
   "execution_count": 33,
   "metadata": {},
   "outputs": [],
   "source": [
    "import os\n",
    "for i in ds:\n",
    "    for j in range(len(ds[i])):\n",
    "        try:\n",
    "            ds[i][j]['image'].save(f'data/{i}/{ds[i][j]['label']}/{ds[i][j]['label']}{j}.jpg')\n",
    "        except:\n",
    "            os.mkdir(f'data/{i}/{ds[i][j]['label']}')\n",
    "            ds[i][j]['image'].save(f'data/{i}/{ds[i][j]['label']}/{ds[i][j]['label']}{j}.jpg')"
   ]
  },
  {
   "cell_type": "code",
   "execution_count": 29,
   "metadata": {},
   "outputs": [
    {
     "name": "stdout",
     "output_type": "stream",
     "text": [
      "train\n",
      "test\n"
     ]
    }
   ],
   "source": [
    "for i in ds:\n",
    "    print(i)"
   ]
  },
  {
   "cell_type": "code",
   "execution_count": null,
   "metadata": {},
   "outputs": [],
   "source": []
  }
 ],
 "metadata": {
  "kernelspec": {
   "display_name": "base",
   "language": "python",
   "name": "python3"
  },
  "language_info": {
   "codemirror_mode": {
    "name": "ipython",
    "version": 3
   },
   "file_extension": ".py",
   "mimetype": "text/x-python",
   "name": "python",
   "nbconvert_exporter": "python",
   "pygments_lexer": "ipython3",
   "version": "3.12.4"
  }
 },
 "nbformat": 4,
 "nbformat_minor": 2
}
